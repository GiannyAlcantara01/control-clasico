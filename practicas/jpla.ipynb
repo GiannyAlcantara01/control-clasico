{
 "cells": [
  {
   "cell_type": "markdown",
   "id": "a4346600",
   "metadata": {},
   "source": [
    "sdfghjklkjhgfd\n",
    "ñlkjhgfdsasdfghjklñ{\n",
    "\n",
    "    kjnhbcvx\n",
    "}"
   ]
  },
  {
   "cell_type": "code",
   "execution_count": 1,
   "id": "ad7cf2de",
   "metadata": {},
   "outputs": [
    {
     "name": "stdout",
     "output_type": "stream",
     "text": [
      "La Función de Transferencia 1 es:\n",
      "<TransferFunction>: sys[0]\n",
      "Inputs (1): ['u[0]']\n",
      "Outputs (1): ['y[0]']\n",
      "\n",
      "          2\n",
      "  -----------------\n",
      "  50 s^2 + 29 s + 4\n"
     ]
    }
   ],
   "source": [
    "# Importar las bibliotecas necesarias.\n",
    "import control as ct\n",
    "import matplotlib.pyplot as plt\n",
    "import numpy as np\n",
    "\n",
    "# --- Parámetros del circuito para una respuesta SOBFREAMORTIGUADA. ---\n",
    "R1 = 2     # Ohms\n",
    "R2 = 2     # Ohms\n",
    "L = 25     # Henrios\n",
    "C = 1      # Faradios\n",
    "\n",
    "# --- Coeficientes de la Función de Transferencia G(s). ---\n",
    "# G(s) = num / den\n",
    "num = [R2]\n",
    "den = [L*C*R1, (L + R1*R2*C), (R1 + R2)]\n",
    "\n",
    "# --- Creación del objeto Función de Transferencia. ---\n",
    "# Usamos la función tf de la biblioteca control.\n",
    "sistema_sobreamortiguado = ct.tf(num, den)\n",
    "\n",
    "# Imprimir la función de transferencia para verificarla.\n",
    "print(\"La Función de Transferencia 1 es:\")\n",
    "print(sistema_sobreamortiguado)"
   ]
  }
 ],
 "metadata": {
  "kernelspec": {
   "display_name": ".venv",
   "language": "python",
   "name": "python3"
  },
  "language_info": {
   "codemirror_mode": {
    "name": "ipython",
    "version": 3
   },
   "file_extension": ".py",
   "mimetype": "text/x-python",
   "name": "python",
   "nbconvert_exporter": "python",
   "pygments_lexer": "ipython3",
   "version": "3.13.7"
  }
 },
 "nbformat": 4,
 "nbformat_minor": 5
}
